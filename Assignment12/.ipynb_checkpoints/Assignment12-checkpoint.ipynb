{
 "cells": [
  {
   "cell_type": "markdown",
   "id": "aa878cc5",
   "metadata": {},
   "source": [
    "# 12.0 Portfolio assignment 12\n",
    "30 min: Perform a bivariate analysis on at least 3 combinations of a numerical column with a categorical column in the dataset that you chose in portfolio assignment 4. Use <em>.groupby('columnname').mean()</em> to calculate the means. Is there a difference between categories? Then use seaborn barplots to check if there is a statistically significant difference. "
   ]
  },
  {
   "cell_type": "code",
   "execution_count": 1,
   "id": "1f4bc341",
   "metadata": {},
   "outputs": [],
   "source": [
    "import pandas as pd\n",
    "import seaborn as sns\n",
    "\n",
    "chess = pd.read_csv(\"../assets/chess.csv\", sep=',')\n",
    "chess['combined_rating'] = chess['white_rating'] + chess['black_rating']"
   ]
  },
  {
   "cell_type": "markdown",
   "id": "c06352d1",
   "metadata": {},
   "source": [
    "## 12.1 Numerical means grouped"
   ]
  },
  {
   "cell_type": "code",
   "execution_count": 2,
   "id": "742b9783",
   "metadata": {},
   "outputs": [
    {
     "data": {
      "text/html": [
       "<div>\n",
       "<style scoped>\n",
       "    .dataframe tbody tr th:only-of-type {\n",
       "        vertical-align: middle;\n",
       "    }\n",
       "\n",
       "    .dataframe tbody tr th {\n",
       "        vertical-align: top;\n",
       "    }\n",
       "\n",
       "    .dataframe thead th {\n",
       "        text-align: right;\n",
       "    }\n",
       "</style>\n",
       "<table border=\"1\" class=\"dataframe\">\n",
       "  <thead>\n",
       "    <tr style=\"text-align: right;\">\n",
       "      <th></th>\n",
       "      <th>rated</th>\n",
       "      <th>created_at</th>\n",
       "      <th>last_move_at</th>\n",
       "      <th>turns</th>\n",
       "      <th>white_rating</th>\n",
       "      <th>black_rating</th>\n",
       "      <th>opening_ply</th>\n",
       "      <th>combined_rating</th>\n",
       "    </tr>\n",
       "    <tr>\n",
       "      <th>victory_status</th>\n",
       "      <th></th>\n",
       "      <th></th>\n",
       "      <th></th>\n",
       "      <th></th>\n",
       "      <th></th>\n",
       "      <th></th>\n",
       "      <th></th>\n",
       "      <th></th>\n",
       "    </tr>\n",
       "  </thead>\n",
       "  <tbody>\n",
       "    <tr>\n",
       "      <th>draw</th>\n",
       "      <td>0.751656</td>\n",
       "      <td>1.486593e+12</td>\n",
       "      <td>1.486595e+12</td>\n",
       "      <td>83.781457</td>\n",
       "      <td>1658.154525</td>\n",
       "      <td>1641.241722</td>\n",
       "      <td>5.056291</td>\n",
       "      <td>3299.396247</td>\n",
       "    </tr>\n",
       "    <tr>\n",
       "      <th>mate</th>\n",
       "      <td>0.813597</td>\n",
       "      <td>1.482697e+12</td>\n",
       "      <td>1.482697e+12</td>\n",
       "      <td>65.415020</td>\n",
       "      <td>1529.353676</td>\n",
       "      <td>1523.439684</td>\n",
       "      <td>4.497708</td>\n",
       "      <td>3052.793360</td>\n",
       "    </tr>\n",
       "    <tr>\n",
       "      <th>outoftime</th>\n",
       "      <td>0.808929</td>\n",
       "      <td>1.481289e+12</td>\n",
       "      <td>1.481291e+12</td>\n",
       "      <td>72.742857</td>\n",
       "      <td>1612.629167</td>\n",
       "      <td>1609.745833</td>\n",
       "      <td>4.672024</td>\n",
       "      <td>3222.375000</td>\n",
       "    </tr>\n",
       "    <tr>\n",
       "      <th>resign</th>\n",
       "      <td>0.804611</td>\n",
       "      <td>1.484248e+12</td>\n",
       "      <td>1.484249e+12</td>\n",
       "      <td>53.912533</td>\n",
       "      <td>1627.395263</td>\n",
       "      <td>1618.524984</td>\n",
       "      <td>5.000538</td>\n",
       "      <td>3245.920248</td>\n",
       "    </tr>\n",
       "  </tbody>\n",
       "</table>\n",
       "</div>"
      ],
      "text/plain": [
       "                   rated    created_at  last_move_at      turns  white_rating  \\\n",
       "victory_status                                                                  \n",
       "draw            0.751656  1.486593e+12  1.486595e+12  83.781457   1658.154525   \n",
       "mate            0.813597  1.482697e+12  1.482697e+12  65.415020   1529.353676   \n",
       "outoftime       0.808929  1.481289e+12  1.481291e+12  72.742857   1612.629167   \n",
       "resign          0.804611  1.484248e+12  1.484249e+12  53.912533   1627.395263   \n",
       "\n",
       "                black_rating  opening_ply  combined_rating  \n",
       "victory_status                                              \n",
       "draw             1641.241722     5.056291      3299.396247  \n",
       "mate             1523.439684     4.497708      3052.793360  \n",
       "outoftime        1609.745833     4.672024      3222.375000  \n",
       "resign           1618.524984     5.000538      3245.920248  "
      ]
     },
     "execution_count": 2,
     "metadata": {},
     "output_type": "execute_result"
    }
   ],
   "source": [
    "chess.groupby('victory_status').mean()"
   ]
  },
  {
   "cell_type": "code",
   "execution_count": 3,
   "id": "4dd36b24",
   "metadata": {},
   "outputs": [
    {
     "data": {
      "text/html": [
       "<div>\n",
       "<style scoped>\n",
       "    .dataframe tbody tr th:only-of-type {\n",
       "        vertical-align: middle;\n",
       "    }\n",
       "\n",
       "    .dataframe tbody tr th {\n",
       "        vertical-align: top;\n",
       "    }\n",
       "\n",
       "    .dataframe thead th {\n",
       "        text-align: right;\n",
       "    }\n",
       "</style>\n",
       "<table border=\"1\" class=\"dataframe\">\n",
       "  <thead>\n",
       "    <tr style=\"text-align: right;\">\n",
       "      <th></th>\n",
       "      <th>rated</th>\n",
       "      <th>created_at</th>\n",
       "      <th>last_move_at</th>\n",
       "      <th>turns</th>\n",
       "      <th>white_rating</th>\n",
       "      <th>black_rating</th>\n",
       "      <th>opening_ply</th>\n",
       "      <th>combined_rating</th>\n",
       "    </tr>\n",
       "    <tr>\n",
       "      <th>winner</th>\n",
       "      <th></th>\n",
       "      <th></th>\n",
       "      <th></th>\n",
       "      <th></th>\n",
       "      <th></th>\n",
       "      <th></th>\n",
       "      <th></th>\n",
       "      <th></th>\n",
       "    </tr>\n",
       "  </thead>\n",
       "  <tbody>\n",
       "    <tr>\n",
       "      <th>black</th>\n",
       "      <td>0.810805</td>\n",
       "      <td>1.484049e+12</td>\n",
       "      <td>1.484050e+12</td>\n",
       "      <td>60.724388</td>\n",
       "      <td>1549.246184</td>\n",
       "      <td>1638.227298</td>\n",
       "      <td>4.742396</td>\n",
       "      <td>3187.473482</td>\n",
       "    </tr>\n",
       "    <tr>\n",
       "      <th>draw</th>\n",
       "      <td>0.756842</td>\n",
       "      <td>1.486773e+12</td>\n",
       "      <td>1.486774e+12</td>\n",
       "      <td>86.157895</td>\n",
       "      <td>1655.558947</td>\n",
       "      <td>1641.210526</td>\n",
       "      <td>5.056842</td>\n",
       "      <td>3296.769474</td>\n",
       "    </tr>\n",
       "    <tr>\n",
       "      <th>white</th>\n",
       "      <td>0.805119</td>\n",
       "      <td>1.482923e+12</td>\n",
       "      <td>1.482924e+12</td>\n",
       "      <td>57.790221</td>\n",
       "      <td>1634.184182</td>\n",
       "      <td>1538.876712</td>\n",
       "      <td>4.862114</td>\n",
       "      <td>3173.060894</td>\n",
       "    </tr>\n",
       "  </tbody>\n",
       "</table>\n",
       "</div>"
      ],
      "text/plain": [
       "           rated    created_at  last_move_at      turns  white_rating  \\\n",
       "winner                                                                  \n",
       "black   0.810805  1.484049e+12  1.484050e+12  60.724388   1549.246184   \n",
       "draw    0.756842  1.486773e+12  1.486774e+12  86.157895   1655.558947   \n",
       "white   0.805119  1.482923e+12  1.482924e+12  57.790221   1634.184182   \n",
       "\n",
       "        black_rating  opening_ply  combined_rating  \n",
       "winner                                              \n",
       "black    1638.227298     4.742396      3187.473482  \n",
       "draw     1641.210526     5.056842      3296.769474  \n",
       "white    1538.876712     4.862114      3173.060894  "
      ]
     },
     "execution_count": 3,
     "metadata": {},
     "output_type": "execute_result"
    }
   ],
   "source": [
    "chess.groupby('winner').mean()"
   ]
  },
  {
   "cell_type": "markdown",
   "id": "ec261b93",
   "metadata": {},
   "source": [
    "## 12.2 Barplot mean and confidence\n",
    "\n",
    "### 12.2.1 Turns vs Victory status"
   ]
  },
  {
   "cell_type": "code",
   "execution_count": 4,
   "id": "196bcf2a",
   "metadata": {},
   "outputs": [
    {
     "data": {
      "text/plain": [
       "<AxesSubplot:xlabel='victory_status', ylabel='turns'>"
      ]
     },
     "execution_count": 4,
     "metadata": {},
     "output_type": "execute_result"
    },
    {
     "data": {
      "image/png": "[encoded data removed]",
      "text/plain": [
       "<Figure size 640x480 with 1 Axes>"
      ]
     },
     "metadata": {},
     "output_type": "display_data"
    }
   ],
   "source": [
    "sns.barplot(y=\"turns\", x=\"victory_status\", data=chess) "
   ]
  },
  {
   "cell_type": "markdown",
   "id": "236e7b31",
   "metadata": {},
   "source": [
    "#### 12.2.1.1 Observaties\n",
    "- Het kost vaak meer zetten om tot een gelijkspel te komen. \n",
    "    - Dit is logisch, naar mate er meer zetten worden gespeeld hoe minder materiaal er op het bord staat\n",
    "- Spellen duren het kortst bij opgave. Dit is logisch omdat spelers vaak opgeven na een fout\n",
    "    - Vaak word een belangrijk stuk op het bord geblunderd\n",
    "    \n",
    "### 12.2.2 Aantal theoretische zetten vs Victory status"
   ]
  },
  {
   "cell_type": "code",
   "execution_count": 5,
   "id": "1610c2cb",
   "metadata": {},
   "outputs": [
    {
     "data": {
      "text/plain": [
       "<AxesSubplot:xlabel='victory_status', ylabel='opening_ply'>"
      ]
     },
     "execution_count": 5,
     "metadata": {},
     "output_type": "execute_result"
    },
    {
     "data": {
      "image/png": "[encoded data removed]",
      "text/plain": [
       "<Figure size 640x480 with 1 Axes>"
      ]
     },
     "metadata": {},
     "output_type": "display_data"
    }
   ],
   "source": [
    "sns.barplot(y=\"opening_ply\", x=\"victory_status\", data=chess) "
   ]
  },
  {
   "cell_type": "markdown",
   "id": "d9792ad4",
   "metadata": {},
   "source": [
    "#### 12.2.2.1 Observaties\n",
    "- De meeste openingszetten resulteren het vaakst in een gelijkspel\n",
    "- De confidence interval van gelijkspel is het grootst. Dit klopt ook aangezien er het minst vaak gelijk gespeeld word (assignment 6). Er is dus weinig data\n",
    "\n",
    "### 12.2.3 Aantal zetten vs Winnaar"
   ]
  },
  {
   "cell_type": "code",
   "execution_count": 8,
   "id": "198ff48b",
   "metadata": {},
   "outputs": [
    {
     "data": {
      "text/plain": [
       "<AxesSubplot:xlabel='winner', ylabel='turns'>"
      ]
     },
     "execution_count": 8,
     "metadata": {},
     "output_type": "execute_result"
    },
    {
     "data": {
      "image/png": "[encoded data removed]",
      "text/plain": [
       "<Figure size 640x480 with 1 Axes>"
      ]
     },
     "metadata": {},
     "output_type": "display_data"
    }
   ],
   "source": [
    "sns.barplot(y=\"turns\", x=\"winner\", data=chess) "
   ]
  },
  {
   "cell_type": "markdown",
   "id": "ad9eca55",
   "metadata": {},
   "source": [
    "#### 12.2.3.1 Observaties\n",
    "- Het kost vaak meer zetten om tot een gelijkspel te komen.\n",
    "    - Dit is logisch, naar mate er meer zetten worden gespeeld hoe minder materiaal er op het bord staat\n",
    "- Er is hier te concluderen dat zwart vaker meer zetten nodig heeft om het spel te winnen.\n",
    "    - Dit is ook logisch, wit is namelijk als eerst aan zet\n",
    "- Ook hier is weer te zien dat de confidence interval van gelijkspel een grotere spreiding kent (minder records)"
   ]
  },
  {
   "cell_type": "code",
   "execution_count": null,
   "id": "0f8a68c9",
   "metadata": {},
   "outputs": [],
   "source": []
  }
 ],
 "metadata": {
  "kernelspec": {
   "display_name": "Python 3 (ipykernel)",
   "language": "python",
   "name": "python3"
  },
  "language_info": {
   "codemirror_mode": {
    "name": "ipython",
    "version": 3
   },
   "file_extension": ".py",
   "mimetype": "text/x-python",
   "name": "python",
   "nbconvert_exporter": "python",
   "pygments_lexer": "ipython3",
   "version": "3.9.13"
  }
 },
 "nbformat": 4,
 "nbformat_minor": 5
}
