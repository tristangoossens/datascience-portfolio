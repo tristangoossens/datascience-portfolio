{
 "cells": [
  {
   "cell_type": "markdown",
   "id": "c29508f0",
   "metadata": {},
   "source": [
    "# 8.0 Portfolio assignment 8\n",
    "15 min: \n",
    "- Calculate the 90%, 95%, 99% and 99.99% confidence interval for at least 2 columns with numerical data in the dataset that you chose in portfolio assignment 4. Do you see the impact the confidence has on the interval?\n",
    "- Now calculate the 95% confidence interval again but use only the first 10% of your rows. Compare this interval to the previous 95% confidence interval you calculated. Do you see the impact of having less data?"
   ]
  },
  {
   "cell_type": "code",
   "execution_count": 19,
   "id": "64d42684",
   "metadata": {},
   "outputs": [],
   "source": [
    "import pandas as pd\n",
    "import scipy.stats as st\n",
    "\n",
    "# Chess data set\n",
    "chess = pd.read_csv('../assets/chess.csv', sep=',')\n",
    "\n",
    "# Combined rating\n",
    "chess['combined_rating'] = chess['white_rating'] + chess['black_rating']\n",
    "\n",
    "# Get 10 percent of records\n",
    "first10PercentOfRecords = chess.head(int(len(chess)*(10/100)))\n",
    "\n",
    "# Confidence levels\n",
    "confidence90 = 0.90\n",
    "confidence95 = 0.95\n",
    "confidence99 = 0.99\n",
    "confidence9999 = 0.9999"
   ]
  },
  {
   "cell_type": "markdown",
   "id": "e6e5c31a",
   "metadata": {},
   "source": [
    "## 8.1 Confidence interval turns"
   ]
  },
  {
   "cell_type": "code",
   "execution_count": 20,
   "id": "d1ed66a1",
   "metadata": {},
   "outputs": [
    {
     "data": {
      "text/plain": [
       "count    20058.000000\n",
       "mean        60.465999\n",
       "std         33.570585\n",
       "min          1.000000\n",
       "25%         37.000000\n",
       "50%         55.000000\n",
       "75%         79.000000\n",
       "max        349.000000\n",
       "Name: turns, dtype: float64"
      ]
     },
     "execution_count": 20,
     "metadata": {},
     "output_type": "execute_result"
    }
   ],
   "source": [
    "chess['turns'].describe()"
   ]
  },
  {
   "cell_type": "markdown",
   "id": "50219e1b",
   "metadata": {},
   "source": [
    "### 8.1 All records"
   ]
  },
  {
   "cell_type": "code",
   "execution_count": 21,
   "id": "9090adfb",
   "metadata": {},
   "outputs": [
    {
     "name": "stdout",
     "output_type": "stream",
     "text": [
      "90% Confidence: (60.07609036796275, 60.85590684013377)\n",
      "95% Confidence: (60.001387706058416, 60.9306095020381)\n",
      "99% Confidence: (59.85537511899821, 61.07662208909831)\n",
      "99.99% Confidence: (59.543601080425546, 61.38839612767097)\n"
     ]
    }
   ],
   "source": [
    "print(\"90% Confidence: {0}\".format(st.t.interval(confidence90, len(chess['turns'])-1, loc=chess['turns'].mean(), scale=st.sem(chess['turns']))))\n",
    "print(\"95% Confidence: {0}\".format(st.t.interval(confidence95, len(chess['turns'])-1, loc=chess['turns'].mean(), scale=st.sem(chess['turns']))))\n",
    "print(\"99% Confidence: {0}\".format(st.t.interval(confidence99, len(chess['turns'])-1, loc=chess['turns'].mean(), scale=st.sem(chess['turns']))))\n",
    "print(\"99.99% Confidence: {0}\".format(st.t.interval(confidence9999, len(chess['turns'])-1, loc=chess['turns'].mean(), scale=st.sem(chess['turns']))))"
   ]
  },
  {
   "cell_type": "markdown",
   "id": "674da379",
   "metadata": {},
   "source": [
    "#### Observeringen\n",
    "- De spreiding van het gemiddelde word groter bij mate dat de confidence verhoogd\n",
    "- Het gemiddelde ligt in het midden van de spreiding\n",
    "\n",
    "### 8.1.2 10% of records"
   ]
  },
  {
   "cell_type": "code",
   "execution_count": 22,
   "id": "3895f2e2",
   "metadata": {},
   "outputs": [
    {
     "name": "stdout",
     "output_type": "stream",
     "text": [
      "95% Confidence: (57.56790948788023, 60.43508303082301)\n"
     ]
    }
   ],
   "source": [
    "print(\"95% Confidence: {0}\".format(st.t.interval(confidence95, len(first10PercentOfRecords['turns'])-1, loc=first10PercentOfRecords['turns'].mean(), scale=st.sem(first10PercentOfRecords['turns']))))"
   ]
  },
  {
   "cell_type": "markdown",
   "id": "9f51e309",
   "metadata": {},
   "source": [
    "#### Observeringen\n",
    "- Omdat we maar 10% van de records vergelijken, is de spreiding een stuk groter. We hebben namelijk minder records om het gemiddelde op te baseren\n",
    "\n",
    "## 8.2 Confidence interval combined rating"
   ]
  },
  {
   "cell_type": "code",
   "execution_count": 23,
   "id": "342c33db",
   "metadata": {},
   "outputs": [
    {
     "data": {
      "text/plain": [
       "count    20058.000000\n",
       "mean      3185.463855\n",
       "std        526.347651\n",
       "min       1633.000000\n",
       "25%       2813.000000\n",
       "50%       3137.500000\n",
       "75%       3542.000000\n",
       "max       4951.000000\n",
       "Name: combined_rating, dtype: float64"
      ]
     },
     "execution_count": 23,
     "metadata": {},
     "output_type": "execute_result"
    }
   ],
   "source": [
    "chess['combined_rating'].describe()"
   ]
  },
  {
   "cell_type": "markdown",
   "id": "bfab2825",
   "metadata": {},
   "source": [
    "### 8.1.1 All records"
   ]
  },
  {
   "cell_type": "code",
   "execution_count": 24,
   "id": "9914ff31",
   "metadata": {},
   "outputs": [
    {
     "name": "stdout",
     "output_type": "stream",
     "text": [
      "90% Confidence: (3179.350548018354, 3191.5771616236843)\n",
      "95% Confidence: (3178.1792973266993, 3192.748412315339)\n",
      "99% Confidence: (3175.889990102232, 3195.0377195398064)\n",
      "99.99% Confidence: (3171.0017364709784, 3199.92597317106)\n"
     ]
    }
   ],
   "source": [
    "print(\"90% Confidence: {0}\".format(st.t.interval(confidence90, len(chess['combined_rating'])-1, loc=chess['combined_rating'].mean(), scale=st.sem(chess['combined_rating']))))\n",
    "print(\"95% Confidence: {0}\".format(st.t.interval(confidence95, len(chess['combined_rating'])-1, loc=chess['combined_rating'].mean(), scale=st.sem(chess['combined_rating']))))\n",
    "print(\"99% Confidence: {0}\".format(st.t.interval(confidence99, len(chess['combined_rating'])-1, loc=chess['combined_rating'].mean(), scale=st.sem(chess['combined_rating']))))\n",
    "print(\"99.99% Confidence: {0}\".format(st.t.interval(confidence9999, len(chess['combined_rating'])-1, loc=chess['combined_rating'].mean(), scale=st.sem(chess['combined_rating']))))"
   ]
  },
  {
   "cell_type": "markdown",
   "id": "fc1b8903",
   "metadata": {},
   "source": [
    "#### Observeringen\n",
    "- De spreiding van het gemiddelde word groter bij mate dat de confidence verhoogd\n",
    "- Het gemiddelde ligt in het midden van de spreiding\n",
    "\n",
    "### 8.2.2 10% of records"
   ]
  },
  {
   "cell_type": "code",
   "execution_count": 25,
   "id": "f2873f03",
   "metadata": {},
   "outputs": [
    {
     "name": "stdout",
     "output_type": "stream",
     "text": [
      "95% Confidence: (3079.7019908385473, 3128.886537839757)\n"
     ]
    }
   ],
   "source": [
    "print(\"95% Confidence: {0}\".format(st.t.interval(confidence95, len(first10PercentOfRecords['combined_rating'])-1, loc=first10PercentOfRecords['combined_rating'].mean(), scale=st.sem(first10PercentOfRecords['combined_rating']))))"
   ]
  },
  {
   "cell_type": "markdown",
   "id": "33cab145",
   "metadata": {},
   "source": [
    "#### Observeringen\n",
    "- Omdat we maar 10% van de records vergelijken, is de spreiding een stuk groter. We hebben namelijk minder records om het gemiddelde op te baseren"
   ]
  },
  {
   "cell_type": "code",
   "execution_count": null,
   "id": "d8882517",
   "metadata": {},
   "outputs": [],
   "source": []
  }
 ],
 "metadata": {
  "kernelspec": {
   "display_name": "Python 3 (ipykernel)",
   "language": "python",
   "name": "python3"
  },
  "language_info": {
   "codemirror_mode": {
    "name": "ipython",
    "version": 3
   },
   "file_extension": ".py",
   "mimetype": "text/x-python",
   "name": "python",
   "nbconvert_exporter": "python",
   "pygments_lexer": "ipython3",
   "version": "3.9.13"
  }
 },
 "nbformat": 4,
 "nbformat_minor": 5
}
